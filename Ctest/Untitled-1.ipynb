{
 "cells": [
  {
   "cell_type": "code",
   "execution_count": 5,
   "metadata": {},
   "outputs": [
    {
     "name": "stdout",
     "output_type": "stream",
     "text": [
      "hi\n",
      "8\n"
     ]
    }
   ],
   "source": [
    "if 4 in [1, 2, 3, 4]:\n",
    "    print(\"hi\")\n",
    "    print(3+5)\n",
    "    "
   ]
  },
  {
   "cell_type": "code",
   "execution_count": 8,
   "metadata": {},
   "outputs": [
    {
     "name": "stdout",
     "output_type": "stream",
     "text": [
      "10\n"
     ]
    }
   ],
   "source": [
    "a = 30\n",
    "b = 20\n",
    "c = a - b\n",
    "print(c)"
   ]
  },
  {
   "cell_type": "code",
   "execution_count": 1,
   "metadata": {},
   "outputs": [
    {
     "name": "stdout",
     "output_type": "stream",
     "text": [
      "대\n",
      "한\n",
      "민\n",
      "국\n"
     ]
    }
   ],
   "source": [
    "a = [\"대\", \"한\",\"민\", \"국\"]\n",
    "for i in a:\n",
    "    print(i)"
   ]
  },
  {
   "cell_type": "code",
   "execution_count": 10,
   "metadata": {},
   "outputs": [
    {
     "name": "stdout",
     "output_type": "stream",
     "text": [
      "pyhon\n",
      "\n",
      "is good\n"
     ]
    }
   ],
   "source": [
    "s1 = '''pyhon\n",
    "\n",
    "is good'''\n",
    "print(s1)"
   ]
  },
  {
   "cell_type": "code",
   "execution_count": 19,
   "metadata": {},
   "outputs": [
    {
     "name": "stdout",
     "output_type": "stream",
     "text": [
      "f\n"
     ]
    }
   ],
   "source": [
    "s = 'Life is too short, You need Python'\n",
    "print(s[2])"
   ]
  },
  {
   "cell_type": "code",
   "execution_count": 25,
   "metadata": {},
   "outputs": [
    {
     "name": "stdout",
     "output_type": "stream",
     "text": [
      "year : 2001\n",
      "month :  0331\n",
      "weather :  Rainy\n"
     ]
    }
   ],
   "source": [
    "s = \"20010331Rainy\"\n",
    "year = s[:4]\n",
    "month = s[4:8]\n",
    "weather = s[8:]\n",
    "print(\"year :\" ,year)\n",
    "print(\"month : \", month)\n",
    "print(\"weather : \", weather)\n"
   ]
  },
  {
   "cell_type": "code",
   "execution_count": null,
   "metadata": {},
   "outputs": [
    {
     "name": "stdout",
     "output_type": "stream",
     "text": [
      "100와 200의 합은 300입니다\n",
      " 100와 200의 합은 300입니다.\n"
     ]
    },
    {
     "name": "stdout",
     "output_type": "stream",
     "text": [
      "100와 200의 합은 300입니다\n",
      " 100와 200의 합은 300입니다.\n"
     ]
    }
   ],
   "source": [
    "x = 100\n",
    "y = 200\n",
    "sum = x + y\n",
    "sum\n",
    "print(\"%d와 %d의 합은 %d입니다\" %(x,y,sum))\n",
    "print(\" {}와 {}의 합은 {}입니다.\".format(x,y,sum))"
   ]
  },
  {
   "cell_type": "code",
   "execution_count": 41,
   "metadata": {},
   "outputs": [
    {
     "name": "stdout",
     "output_type": "stream",
     "text": [
      "총점 : 275\n",
      "평균 : 91\n"
     ]
    }
   ],
   "source": [
    "num1 = int(input(\"Python 점수를 입력하세요 >> \"))\n",
    "num2 = int(input(\"머신러닝 점수를 입력하세요 >> \"))\n",
    "num3 = int(input(\"딥러닝 점수를 입력하세요 >> \"))\n",
    "total = num1 + num2 + num3\n",
    "\n",
    "print(\"총점 : {}\".format(total))\n",
    "print(\"평균 : {}\".format(int(total/3)))"
   ]
  }
 ],
 "metadata": {
  "kernelspec": {
   "display_name": "Python 3",
   "language": "python",
   "name": "python3"
  },
  "language_info": {
   "codemirror_mode": {
    "name": "ipython",
    "version": 3
   },
   "file_extension": ".py",
   "mimetype": "text/x-python",
   "name": "python",
   "nbconvert_exporter": "python",
   "pygments_lexer": "ipython3",
   "version": "3.9.6"
  }
 },
 "nbformat": 4,
 "nbformat_minor": 2
}
